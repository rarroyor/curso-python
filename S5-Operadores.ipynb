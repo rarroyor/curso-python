{
 "cells": [
  {
   "cell_type": "code",
   "execution_count": 1,
   "metadata": {},
   "outputs": [
    {
     "name": "stdout",
     "output_type": "stream",
     "text": [
      "10\n",
      "<class 'int'>\n"
     ]
    }
   ],
   "source": [
    "x=10\n",
    "print(x)\n",
    "print(type(x))"
   ]
  },
  {
   "attachments": {},
   "cell_type": "markdown",
   "metadata": {},
   "source": [
    "### Identificar si un nuero es par o impar"
   ]
  },
  {
   "cell_type": "code",
   "execution_count": 1,
   "metadata": {},
   "outputs": [
    {
     "name": "stdout",
     "output_type": "stream",
     "text": [
      "13 es un numero impar\n"
     ]
    }
   ],
   "source": [
    "x = 13\n",
    "\n",
    "if x%2 == 0:\n",
    "    print(f'{x} es un numero par')\n",
    "else:\n",
    "    print(f'{x} es un numero impar')"
   ]
  },
  {
   "attachments": {},
   "cell_type": "markdown",
   "metadata": {},
   "source": [
    "### Identificar Adulto"
   ]
  },
  {
   "cell_type": "code",
   "execution_count": 3,
   "metadata": {},
   "outputs": [
    {
     "name": "stdout",
     "output_type": "stream",
     "text": [
      "No eres un adulto\n"
     ]
    }
   ],
   "source": [
    "edad_adulto = 18\n",
    "edad_persona = int(input(\"Proporciona tu edad: \"))\n",
    "if edad_persona >= edad_adulto:\n",
    "    print(\"Eres un adulto\")\n",
    "else:\n",
    "    print(\"No eres un adulto\")"
   ]
  },
  {
   "attachments": {},
   "cell_type": "markdown",
   "metadata": {},
   "source": [
    "## And & Or"
   ]
  },
  {
   "cell_type": "code",
   "execution_count": 5,
   "metadata": {},
   "outputs": [
    {
     "name": "stdout",
     "output_type": "stream",
     "text": [
      "resultado = False\n",
      "resultado = True\n",
      "resultado = True\n",
      "resultado = True\n",
      "resultado = False\n",
      "resultado = True\n"
     ]
    }
   ],
   "source": [
    "a = True\n",
    "b = False\n",
    "c = True\n",
    "d = False\n",
    "\n",
    "r = a and b\n",
    "print(f'resultado = {r}')\n",
    "\n",
    "r = a or b\n",
    "print(f'resultado = {r}')\n",
    "\n",
    "r = a and c\n",
    "print(f'resultado = {r}')\n",
    "\n",
    "r = a or c\n",
    "print(f'resultado = {r}')\n",
    "\n",
    "r = b and c\n",
    "print(f'resultado = {r}')\n",
    "\n",
    "r = b or c\n",
    "print(f'resultado = {r}')"
   ]
  },
  {
   "attachments": {},
   "cell_type": "markdown",
   "metadata": {},
   "source": [
    "### Between"
   ]
  },
  {
   "cell_type": "code",
   "execution_count": 12,
   "metadata": {},
   "outputs": [
    {
     "name": "stdout",
     "output_type": "stream",
     "text": [
      "3 esta dentro de rango\n"
     ]
    }
   ],
   "source": [
    "v = int(input(\"Escribe el valor: \"))\n",
    "\n",
    "vmin = 0 \n",
    "vmax = 5\n",
    "\n",
    "#dr = (v >=vmin and v <= vmax)\n",
    "dr = (vmin <= v <= vmax)\n",
    "\n",
    "if dr==True:\n",
    "  print(f'{v} esta dentro de rango')\n",
    "else:\n",
    "  print(f'{v} esta fuera de rango' )"
   ]
  }
 ],
 "metadata": {
  "kernelspec": {
   "display_name": "venv",
   "language": "python",
   "name": "python3"
  },
  "language_info": {
   "codemirror_mode": {
    "name": "ipython",
    "version": 3
   },
   "file_extension": ".py",
   "mimetype": "text/x-python",
   "name": "python",
   "nbconvert_exporter": "python",
   "pygments_lexer": "ipython3",
   "version": "3.9.2"
  },
  "orig_nbformat": 4
 },
 "nbformat": 4,
 "nbformat_minor": 2
}
